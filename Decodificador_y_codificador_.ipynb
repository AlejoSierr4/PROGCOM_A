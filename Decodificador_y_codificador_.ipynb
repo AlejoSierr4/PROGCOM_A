{
  "nbformat": 4,
  "nbformat_minor": 0,
  "metadata": {
    "colab": {
      "provenance": []
    },
    "kernelspec": {
      "name": "python3",
      "display_name": "Python 3"
    },
    "language_info": {
      "name": "python"
    }
  },
  "cells": [
    {
      "cell_type": "code",
      "source": [
        "def codificador(palabra):\n",
        "    alfabeto = 'abcdefghijklmnopqrstuvwxyz'\n",
        "    vocales = 'aeiouAEIOU'\n",
        "    vocalestilde=\"áéíóú\"\n",
        "    consonantes = 'bcdfghjklmnñpqrstvwxyz'\n",
        "    palabra_encriptada = \"\"\n",
        "\n",
        "    for letra in palabra:\n",
        "        if letra.lower() in consonantes:\n",
        "            index = consonantes.index(letra.lower())\n",
        "            palabra_encriptada += consonantes[(index + m)] if letra.islower() else consonantes[(index + m) ].upper()\n",
        "        elif letra.lower() in vocales:\n",
        "            index = vocales.index(letra.lower())\n",
        "            palabra_encriptada += vocales[(index - n)] if letra.islower() else vocales[(index - n)].upper()\n",
        "        elif letra.lower() in vocalestilde:\n",
        "              index = vocalestilde.index(letra.lower())\n",
        "              if direccion_movimiento ==\"derecha\":\n",
        "                palabra_encriptada += vocalestilde[(index + 1)] if letra.islower() else vocalestilde[(index + 1) ].upper()\n",
        "              elif direccion_movimiento == \"izquierda\":\n",
        "                palabra_encriptada += vocalestilde[(index - 1)] if letra.islower() else vocalestilde[(index - 1) ].upper()\n",
        "        else:\n",
        "            palabra_encriptada += letra\n",
        "\n",
        "    return palabra_encriptada\n",
        "\n",
        "m = int(input(\"Ingrese el valor de m (de 1 a 5): \"))\n",
        "n = int(input(\"Ingrese el valor de n (de 1 a 2): \"))\n",
        "direccion_movimiento=input(\"ingrese direccion (derecha/izquierda): \")\n",
        "palabra_usuario = input(\"Ingrese una palabra: \")\n",
        "\n",
        "\n",
        "resultado = codificador(palabra_usuario)\n",
        "print(resultado)"
      ],
      "metadata": {
        "colab": {
          "base_uri": "https://localhost:8080/"
        },
        "id": "mXWmGsTG_iDY",
        "outputId": "f88a5658-316d-4e19-a2be-a704011db1da"
      },
      "execution_count": 2,
      "outputs": [
        {
          "output_type": "stream",
          "name": "stdout",
          "text": [
            "Ingrese el valor de m (de 1 a 5): 3\n",
            "Ingrese el valor de n (de 1 a 2): 2\n",
            "ingrese direccion (derecha/izquierda): derecha\n",
            "Ingrese una palabra: nicolás\n",
            "qageñéw\n"
          ]
        }
      ]
    }
  ]
}