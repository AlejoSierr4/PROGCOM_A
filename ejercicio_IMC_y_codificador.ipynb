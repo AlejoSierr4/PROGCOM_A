{
  "nbformat": 4,
  "nbformat_minor": 0,
  "metadata": {
    "colab": {
      "provenance": []
    },
    "kernelspec": {
      "name": "python3",
      "display_name": "Python 3"
    },
    "language_info": {
      "name": "python"
    }
  },
  "cells": [
    {
      "cell_type": "code",
      "source": [
        "import pandas as pd\n",
        "import math\n",
        "\n",
        "def calcular_imc(peso, altura):\n",
        "    return math.trunc(peso / (altura ** 2))\n",
        "\n",
        "def res_descripcion_imc(imc):\n",
        "    if imc < 18.5:\n",
        "        return \"Bajo peso\"\n",
        "    elif imc < 24.9:\n",
        "        return \"Peso normal\"\n",
        "    elif imc < 29.9:\n",
        "        return \"Sobrepeso\"\n",
        "    elif imc < 34.9:\n",
        "        return \"Obesidad grado I (Moderada)\"\n",
        "    else:\n",
        "        return \"Obesidad\"\n",
        "\n",
        "nombre = input(\"Ingresa tu nombre: \")\n",
        "genero = input(\"Ingresa tu género (M/F): \").lower()\n",
        "peso = float(input(\"Ingresa tu peso en kilogramos: \"))\n",
        "altura = float(input(\"Ingresa tu altura en metros: \"))\n",
        "\n",
        "imc = calcular_imc(peso, altura)\n",
        "descripcion_imc = res_descripcion_imc(imc)\n",
        "\n",
        "\n",
        "datos = {'Nombre': [nombre],\n",
        "         'Género': [genero],\n",
        "         'Peso (kg)': [peso],\n",
        "         'Altura (m)': [altura],\n",
        "         'IMC': [imc],\n",
        "         'Descripción IMC': [descripcion_imc]}\n",
        "\n",
        "df = pd.DataFrame(datos)\n",
        "\n",
        "\n",
        "print(\"\\nResultado del cálculo del IMC:\")\n",
        "print(df)\n",
        "\n"
      ],
      "metadata": {
        "colab": {
          "base_uri": "https://localhost:8080/"
        },
        "id": "X0uMVg81SZWi",
        "outputId": "4dbf4edb-bec9-48e0-ae48-a4700159286a"
      },
      "execution_count": 25,
      "outputs": [
        {
          "output_type": "stream",
          "name": "stdout",
          "text": [
            "Ingresa tu nombre: alejandro\n",
            "Ingresa tu género (M/F): M\n",
            "Ingresa tu peso en kilogramos: 85\n",
            "Ingresa tu altura en metros: 1.7\n",
            "\n",
            "Resultado del cálculo del IMC:\n",
            "      Nombre Género  Peso (kg)  Altura (m)  IMC Descripción IMC\n",
            "0  alejandro      m       85.0         1.7   29       Sobrepeso\n"
          ]
        }
      ]
    },
    {
      "cell_type": "code",
      "source": [],
      "metadata": {
        "id": "41frO90Lfn65"
      },
      "execution_count": null,
      "outputs": []
    },
    {
      "cell_type": "code",
      "source": [
        "def codificador(palabra):\n",
        "    alfabeto = 'abcdefghijklmnopqrstuvwxyz'\n",
        "    vocales = 'aeiou'\n",
        "    consonantes = 'bcdfghjklmnpqrstvwxyz'\n",
        "    palabra_encriptada = \"\"\n",
        "\n",
        "    for letra in palabra:\n",
        "        if letra.lower() in consonantes:\n",
        "            index = consonantes.index(letra.lower())\n",
        "            palabra_encriptada += consonantes[(index + 1) % 21] if letra.islower() else consonantes[(index + 1) % 21].upper()\n",
        "        elif letra.lower() in vocales:\n",
        "            index = vocales.index(letra.lower())\n",
        "            palabra_encriptada += vocales[(index - 1) % 5] if letra.islower() else vocales[(index - 1) % 5].upper()\n",
        "        else:\n",
        "            palabra_encriptada += letra\n",
        "\n",
        "    return palabra_encriptada\n",
        "\n",
        "\n",
        "\n",
        "palabra_usuario = input(\"Ingrese una palabra: \")\n",
        "\n",
        "\n",
        "resultado = codificador(palabra_usuario)\n",
        "print(resultado)"
      ],
      "metadata": {
        "colab": {
          "base_uri": "https://localhost:8080/"
        },
        "id": "0gh38c3vfyxR",
        "outputId": "aad8d7b6-93bf-4548-ba73-887c485d0a80"
      },
      "execution_count": 26,
      "outputs": [
        {
          "output_type": "stream",
          "name": "stdout",
          "text": [
            "Ingrese una palabra: mami\n",
            "nune\n"
          ]
        }
      ]
    }
  ]
}